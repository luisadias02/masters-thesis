{
 "cells": [
  {
   "cell_type": "code",
   "execution_count": 13,
   "id": "671a62c6",
   "metadata": {},
   "outputs": [
    {
     "name": "stdout",
     "output_type": "stream",
     "text": [
      "The autoreload extension is already loaded. To reload it, use:\n",
      "  %reload_ext autoreload\n"
     ]
    }
   ],
   "source": [
    "import main\n",
    "%load_ext autoreload\n",
    "%autoreload 2"
   ]
  },
  {
   "cell_type": "code",
   "execution_count": 14,
   "id": "594d3663",
   "metadata": {},
   "outputs": [],
   "source": [
    "liver_ast = {0: [0, 0.0001], 4: [142.78921410, 0.2771], 24: [46.165639, 0.1425], 144: [17.208548, 0.127494], 680: [0, 0.0001]}\n",
    "liver_simind = {0: [0, 0.0001], 4: [148.20992, 0.35580], 24: [49.706194, 0.172591977], 144: [19.871, 0.068], 680: [0, 0.0001]} #mudar\n",
    "\n",
    "spleen_ast = {0: [0, 0.0001], 4: [8.72699784, 0.0919], 24: [1.655212, 0.0240], 144: [0.609914, 0.0134], 980: [0, 0.0001]}\n",
    "spleen_simind = {0: [0, 0.0001],4: [9.36466, 0.10608], 24: [1.884420, 0.030228883], 144: [0.78154, 0.01456], 980: [0, 0.0001]} #mudar\n",
    "\n",
    "right_kid_ast = { 0: [0, 0.0001],4: [24.56420400, 0.1977], 24: [12.436020, 0.2114], 144: [10.01794, 0.1501], 80000: [0, 1e-4]}\n",
    "right_kid_simind = {0: [0, 0.0001], 4: [23.00740, 0.23072], 24: [14.380454, 0.232477735], 144: [10.16740, 0.17224], 80000: [0, 1e-4]} #mudar\n",
    "\n",
    "left_kid_ast = {0: [0, 0.0001], 4: [31.30303600, 0.2839], 24: [20.936659, 0.2334], 144: [13.599456, 0.1840], 3500: [0, 1e-4]}\n",
    "left_kid_simind = {0: [0, 0.0001], 4: [33.16916, 0.34229], 24: [23.353949, 0.285811059], 144: [14.63627, 0.23408], 3500: [0, 1e-4]} #mudar\n",
    "\n",
    "bladder_ast= {0: [0, 0.0001], 4: [111.91751340, 0.8617], 24: [18.367083, 0.3783], 144: [11.597635, 0.3216], 1200: [0, 1e-4]}\n",
    "bladder_simind= {0: [0, 0.0001], 4: [118.21716, 1.14787], 24: [19.074732, 0.401981496], 144: [11.68113, 0.26584], 1200: [0, 1e-4]} #mudar\n",
    "\n",
    "tumor_1_ast = {0: [0, 0.0001], 4: [12.05435340, 0.8645],  24: [11.557187, 0.8311], 144: [7.904785, 0.7275], 50000: [0, 1e-4]}\n",
    "tumor_1_simind = {0: [0, 0.0001], 4: [8.37904, 0.18522], 24: [7.037053, 0.239833797], 144: [6.07000, 0.23820], 50000: [0, 1e-4]} #mudar\n",
    "\n",
    "tumor_2_ast = {0: [0, 0.0001], 4: [0.36787086, 0.0074], 24: [0.416158, 0.0154], 144: [0.369232, 0.0259], 7000: [0, 1e-4]}\n",
    "tumor_2_simind = {0: [0, 0.0001], 4: [0.39118, 0.01555], 24: [0.431094, 0.011323142], 144: [0.37550, 0.01785], 7000: [0, 1e-4]} #mudar\n",
    "\n",
    "remaining_ast= {0: [0, 0.0001], 4: [1137.8, 6], 24: [525.87, 5.5], 120: [231.24, 2.5],  1450: [0, 1e-4]}\n",
    "remaining_simind= {0: [0, 0.0001], 4: [1243.87, 6], 24: [597.75, 5], 120: [276.38, 2.5],  1450: [0, 1e-4]} #mudar\n",
    "\n",
    "main_dict= {'liver':[liver_ast, liver_simind], 'spleen':[spleen_ast, spleen_simind], \n",
    "\t\t\t 'right kidney': [right_kid_ast, right_kid_simind], 'left kidney': [left_kid_ast, left_kid_simind], \n",
    "\t\t\t 'tumor1': [tumor_1_ast, tumor_1_simind], 'tumor2': [tumor_2_ast, tumor_2_simind],\n",
    "             'remaining':[remaining_ast, remaining_simind], 'bladder':[bladder_ast, bladder_simind]}"
   ]
  },
  {
   "cell_type": "code",
   "execution_count": 15,
   "id": "096ddc4a",
   "metadata": {},
   "outputs": [
    {
     "ename": "TypeError",
     "evalue": "read_dicom() missing 1 required positional argument: 'path'",
     "output_type": "error",
     "traceback": [
      "\u001b[1;31m---------------------------------------------------------------------------\u001b[0m",
      "\u001b[1;31mTypeError\u001b[0m                                 Traceback (most recent call last)",
      "Cell \u001b[1;32mIn[15], line 1\u001b[0m\n\u001b[1;32m----> 1\u001b[0m \u001b[43mmain\u001b[49m\u001b[38;5;241;43m.\u001b[39;49m\u001b[43mmain\u001b[49m\u001b[43m(\u001b[49m\u001b[43mmain_dict\u001b[49m\u001b[43m,\u001b[49m\u001b[43m \u001b[49m\n\u001b[0;32m      2\u001b[0m \u001b[43m     \u001b[49m\u001b[43moriginal_24h_path\u001b[49m\u001b[38;5;241;43m=\u001b[39;49m\u001b[43m \u001b[49m\u001b[38;5;124;43m\"\u001b[39;49m\u001b[38;5;124;43mE:\u001b[39;49m\u001b[38;5;130;43;01m\\\\\u001b[39;49;00m\u001b[38;5;124;43mtese_mestrado\u001b[39;49m\u001b[38;5;130;43;01m\\\\\u001b[39;49;00m\u001b[38;5;124;43mpatients_study\u001b[39;49m\u001b[38;5;130;43;01m\\\\\u001b[39;49;00m\u001b[38;5;124;43mp8\u001b[39;49m\u001b[38;5;130;43;01m\\\\\u001b[39;49;00m\u001b[38;5;124;43mvolumes_alinhados\u001b[39;49m\u001b[38;5;130;43;01m\\\\\u001b[39;49;00m\u001b[38;5;124;43mp8_24h.nrrd\u001b[39;49m\u001b[38;5;124;43m\"\u001b[39;49m\u001b[43m,\u001b[49m\n\u001b[0;32m      3\u001b[0m \u001b[43m     \u001b[49m\u001b[43msimulated_24h_path\u001b[49m\u001b[38;5;241;43m=\u001b[39;49m\u001b[43m \u001b[49m\u001b[38;5;124;43m\"\u001b[39;49m\u001b[38;5;124;43mE:\u001b[39;49m\u001b[38;5;130;43;01m\\\\\u001b[39;49;00m\u001b[38;5;124;43mtese_mestrado\u001b[39;49m\u001b[38;5;130;43;01m\\\\\u001b[39;49;00m\u001b[38;5;124;43mpatients_study\u001b[39;49m\u001b[38;5;130;43;01m\\\\\u001b[39;49;00m\u001b[38;5;124;43mp8\u001b[39;49m\u001b[38;5;130;43;01m\\\\\u001b[39;49;00m\u001b[38;5;124;43mvolumes_alinhados\u001b[39;49m\u001b[38;5;130;43;01m\\\\\u001b[39;49;00m\u001b[38;5;124;43mrecon_simind_24h.nii\u001b[39;49m\u001b[38;5;124;43m\"\u001b[39;49m\u001b[43m,\u001b[49m\n\u001b[0;32m      4\u001b[0m \u001b[43m     \u001b[49m\u001b[43mseg_path\u001b[49m\u001b[38;5;241;43m=\u001b[39;49m\u001b[43m \u001b[49m\u001b[38;5;124;43m\"\u001b[39;49m\u001b[38;5;124;43mE:\u001b[39;49m\u001b[38;5;130;43;01m\\\\\u001b[39;49;00m\u001b[38;5;124;43mtese_mestrado\u001b[39;49m\u001b[38;5;130;43;01m\\\\\u001b[39;49;00m\u001b[38;5;124;43mpatients_study\u001b[39;49m\u001b[38;5;130;43;01m\\\\\u001b[39;49;00m\u001b[38;5;124;43mp8\u001b[39;49m\u001b[38;5;130;43;01m\\\\\u001b[39;49;00m\u001b[38;5;124;43mvolumes_alinhados\u001b[39;49m\u001b[38;5;130;43;01m\\\\\u001b[39;49;00m\u001b[38;5;124;43mseg_total.nrrd\u001b[39;49m\u001b[38;5;124;43m\"\u001b[39;49m\u001b[43m,\u001b[49m\n\u001b[0;32m      5\u001b[0m \u001b[43m     \u001b[49m\u001b[43moutput_path\u001b[49m\u001b[38;5;241;43m=\u001b[39;49m\u001b[43m \u001b[49m\u001b[38;5;124;43m\"\u001b[39;49m\u001b[38;5;124;43mC:\u001b[39;49m\u001b[38;5;130;43;01m\\\\\u001b[39;49;00m\u001b[38;5;124;43mdosimetry_py\u001b[39;49m\u001b[38;5;130;43;01m\\\\\u001b[39;49;00m\u001b[38;5;124;43mmasters-thesis\u001b[39;49m\u001b[38;5;130;43;01m\\\\\u001b[39;49;00m\u001b[38;5;124;43mteste_1\u001b[39;49m\u001b[38;5;124;43m\"\u001b[39;49m\u001b[43m)\u001b[49m\n",
      "File \u001b[1;32mc:\\dosimetry_py\\masters-thesis\\main.py:48\u001b[0m, in \u001b[0;36mmain\u001b[1;34m(dict_vois, original_24h_path, simulated_24h_path, seg_path, output_path)\u001b[0m\n\u001b[0;32m     46\u001b[0m \u001b[38;5;28;01mdef\u001b[39;00m \u001b[38;5;21mmain\u001b[39m(dict_vois:\u001b[38;5;28mdict\u001b[39m, original_24h_path:\u001b[38;5;28mstr\u001b[39m, simulated_24h_path:\u001b[38;5;28mstr\u001b[39m, seg_path:\u001b[38;5;28mstr\u001b[39m, output_path:\u001b[38;5;28mstr\u001b[39m):\n\u001b[1;32m---> 48\u001b[0m     img_or, img_sim\u001b[38;5;241m=\u001b[39m \u001b[43minput_files\u001b[49m\u001b[43m(\u001b[49m\u001b[43moriginal_24h_path\u001b[49m\u001b[43m,\u001b[49m\u001b[43m \u001b[49m\u001b[43msimulated_24h_path\u001b[49m\u001b[43m)\u001b[49m\n\u001b[0;32m     50\u001b[0m     dict_rescaled\u001b[38;5;241m=\u001b[39m tac_computation(dict_vois, img_or)\n\u001b[0;32m     52\u001b[0m     tia_maps_generation(original_24h_path, seg_path, dict_rescaled, output_path, sim\u001b[38;5;241m=\u001b[39m\u001b[38;5;28;01mFalse\u001b[39;00m)\n",
      "File \u001b[1;32mc:\\dosimetry_py\\masters-thesis\\main.py:11\u001b[0m, in \u001b[0;36minput_files\u001b[1;34m(original_path, simind_path)\u001b[0m\n\u001b[0;32m      9\u001b[0m \u001b[38;5;28;01mdef\u001b[39;00m \u001b[38;5;21minput_files\u001b[39m(original_path:\u001b[38;5;28mstr\u001b[39m, simind_path:\u001b[38;5;28mstr\u001b[39m):\n\u001b[0;32m     10\u001b[0m     img_or\u001b[38;5;241m=\u001b[39m functions\u001b[38;5;241m.\u001b[39mread_dicom(original_path)\n\u001b[1;32m---> 11\u001b[0m     img_sim\u001b[38;5;241m=\u001b[39m \u001b[43mfunctions\u001b[49m\u001b[38;5;241;43m.\u001b[39;49m\u001b[43mread_dicom\u001b[49m\u001b[43m(\u001b[49m\u001b[43m)\u001b[49m\n\u001b[0;32m     13\u001b[0m     \u001b[38;5;28;01mreturn\u001b[39;00m img_or, img_sim\n",
      "\u001b[1;31mTypeError\u001b[0m: read_dicom() missing 1 required positional argument: 'path'"
     ]
    }
   ],
   "source": [
    "main.main(main_dict, \n",
    "     original_24h_path= \"E:\\\\tese_mestrado\\\\patients_study\\\\p8\\\\volumes_alinhados\\\\p8_24h.nrrd\",\n",
    "     simulated_24h_path= \"E:\\\\tese_mestrado\\\\patients_study\\\\p8\\\\volumes_alinhados\\\\recon_simind_24h.nii\",\n",
    "     seg_path= \"E:\\\\tese_mestrado\\\\patients_study\\\\p8\\\\volumes_alinhados\\\\seg_total.nrrd\",\n",
    "     output_path= \"C:\\\\dosimetry_py\\\\masters-thesis\\\\teste_1\")"
   ]
  },
  {
   "cell_type": "code",
   "execution_count": null,
   "id": "f6c38dbc",
   "metadata": {},
   "outputs": [],
   "source": []
  }
 ],
 "metadata": {
  "kernelspec": {
   "display_name": "Python (luisa_env)",
   "language": "python",
   "name": "luisa_env"
  },
  "language_info": {
   "codemirror_mode": {
    "name": "ipython",
    "version": 3
   },
   "file_extension": ".py",
   "mimetype": "text/x-python",
   "name": "python",
   "nbconvert_exporter": "python",
   "pygments_lexer": "ipython3",
   "version": "3.12.0"
  }
 },
 "nbformat": 4,
 "nbformat_minor": 5
}
