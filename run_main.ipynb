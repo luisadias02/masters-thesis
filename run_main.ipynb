{
 "cells": [
  {
   "cell_type": "code",
   "execution_count": 1,
   "id": "594d3663",
   "metadata": {},
   "outputs": [],
   "source": [
    "liver_ast = {0: [0, 0.0001], 4: [142.78921410, 0.2771], 24: [46.165639, 0.1425], 144: [17.208548, 0.127494], 680: [0, 0.0001]}\n",
    "liver_simind = {0: [0, 0.0001], 4: [148.20992, 0.35580], 24: [49.706194, 0.172591977], 144: [19.871, 0.068], 680: [0, 0.0001]} #mudar\n",
    "\n",
    "spleen_ast = {0: [0, 0.0001], 4: [8.72699784, 0.0919], 24: [1.655212, 0.0240], 144: [0.609914, 0.0134], 980: [0, 0.0001]}\n",
    "spleen_simind = {0: [0, 0.0001],4: [9.36466, 0.10608], 24: [1.884420, 0.030228883], 144: [0.78154, 0.01456], 980: [0, 0.0001]} #mudar\n",
    "\n",
    "right_kid_ast = { 0: [0, 0.0001],4: [24.56420400, 0.1977], 24: [12.436020, 0.2114], 144: [10.01794, 0.1501], 80000: [0, 1e-4]}\n",
    "right_kid_simind = {0: [0, 0.0001], 4: [23.00740, 0.23072], 24: [14.380454, 0.232477735], 144: [10.16740, 0.17224], 80000: [0, 1e-4]} #mudar\n",
    "\n",
    "left_kid_ast = {0: [0, 0.0001], 4: [31.30303600, 0.2839], 24: [20.936659, 0.2334], 144: [13.599456, 0.1840], 3500: [0, 1e-4]}\n",
    "left_kid_simind = {0: [0, 0.0001], 4: [33.16916, 0.34229], 24: [23.353949, 0.285811059], 144: [14.63627, 0.23408], 3500: [0, 1e-4]} #mudar\n",
    "\n",
    "bladder_ast= {0: [0, 0.0001], 4: [111.91751340, 0.8617], 24: [18.367083, 0.3783], 144: [11.597635, 0.3216], 1200: [0, 1e-4]}\n",
    "bladder_simind= {0: [0, 0.0001], 4: [118.21716, 1.14787], 24: [19.074732, 0.401981496], 144: [11.68113, 0.26584], 1200: [0, 1e-4]} #mudar\n",
    "\n",
    "tumor_1_ast = {0: [0, 0.0001], 4: [12.05435340, 0.8645],  24: [11.557187, 0.8311], 144: [7.904785, 0.7275], 50000: [0, 1e-4]}\n",
    "tumor_1_simind = {0: [0, 0.0001], 4: [8.37904, 0.18522], 24: [7.037053, 0.239833797], 144: [6.07000, 0.23820], 50000: [0, 1e-4]} #mudar\n",
    "\n",
    "tumor_2_ast = {0: [0, 0.0001], 4: [0.36787086, 0.0074], 24: [0.416158, 0.0154], 144: [0.369232, 0.0259], 7000: [0, 1e-4]}\n",
    "tumor_2_simind = {0: [0, 0.0001], 4: [0.39118, 0.01555], 24: [0.431094, 0.011323142], 144: [0.37550, 0.01785], 7000: [0, 1e-4]} #mudar\n",
    "\n",
    "remaining_ast= {0: [0, 0.0001], 4: [1137.8, 6], 24: [525.87, 5.5], 120: [231.24, 2.5],  1450: [0, 1e-4]}\n",
    "remaining_simind= {0: [0, 0.0001], 4: [1243.87, 6], 24: [597.75, 5], 120: [276.38, 2.5],  1450: [0, 1e-4]} #mudar\n",
    "\n",
    "main_dict= {'liver':[liver_ast, liver_simind], 'spleen':[spleen_ast, spleen_simind], \n",
    "\t\t\t 'right kidney': [right_kid_ast, right_kid_simind], 'left kidney': [left_kid_ast, left_kid_simind], \n",
    "\t\t\t 'tumor1': [tumor_1_ast, tumor_1_simind], 'tumor2': [tumor_2_ast, tumor_2_simind],\n",
    "             'remaining':[remaining_ast, remaining_simind], 'bladder':[bladder_ast, bladder_simind]}"
   ]
  },
  {
   "cell_type": "code",
   "execution_count": null,
   "id": "096ddc4a",
   "metadata": {},
   "outputs": [],
   "source": []
  }
 ],
 "metadata": {
  "kernelspec": {
   "display_name": "Python (luisa_env)",
   "language": "python",
   "name": "luisa_env"
  },
  "language_info": {
   "codemirror_mode": {
    "name": "ipython",
    "version": 3
   },
   "file_extension": ".py",
   "mimetype": "text/x-python",
   "name": "python",
   "nbconvert_exporter": "python",
   "pygments_lexer": "ipython3",
   "version": "3.12.0"
  }
 },
 "nbformat": 4,
 "nbformat_minor": 5
}
