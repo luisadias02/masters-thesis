{
 "cells": [
  {
   "cell_type": "code",
   "execution_count": 1,
   "id": "f6237077",
   "metadata": {},
   "outputs": [],
   "source": [
    "import sys\n",
    "sys.path.append('C:\\\\simind')\n",
    "import functions\n",
    "import numpy as np\n",
    "import SimpleITK as sitk\n",
    "from dmi_smi_patients import ct_image, source_imagem, array, save_smi_dmi, source_alignment\n",
    "%load_ext autoreload\n",
    "%autoreload 2"
   ]
  },
  {
   "cell_type": "code",
   "execution_count": 2,
   "id": "f1ddaa62",
   "metadata": {},
   "outputs": [],
   "source": [
    "cf= 119.77 #cps/MBq\n",
    "calib= 1/cf/(15*128)"
   ]
  },
  {
   "cell_type": "code",
   "execution_count": 3,
   "id": "fbee638e",
   "metadata": {},
   "outputs": [],
   "source": [
    "path_4h= \"E:\\\\tese_mestrado\\\\patients_study\\\\p8\\\\recon_4h\\\\p8_5i_8s_4h.nrrd\"\n",
    "path_24h= \"E:\\\\tese_mestrado\\\\patients_study\\\\p8\\\\recon_24h\\\\p8_5i_8s_24h.nrrd\"\n",
    "path_6d= \"E:\\\\tese_mestrado\\\\patients_study\\\\p8\\\\recon_6d\\\\p8_5i_8s_6d.nrrd\""
   ]
  },
  {
   "cell_type": "code",
   "execution_count": 15,
   "id": "2699812a",
   "metadata": {},
   "outputs": [
    {
     "name": "stdout",
     "output_type": "stream",
     "text": [
      "4h total counts 337928654\n",
      "24h total counts 147006319\n",
      "6d total counts 66908637\n"
     ]
    }
   ],
   "source": [
    "img_4h= functions.read_dicom(path_4h)\n",
    "array_4h= sitk.GetArrayFromImage(img_4h)\n",
    "print('4h total counts', np.sum(array_4h))\n",
    "\n",
    "img_24h=functions.read_dicom(path_24h)\n",
    "array_24h= sitk.GetArrayFromImage(img_24h)\n",
    "print('24h total counts', np.sum(array_24h))\n",
    "\n",
    "img_6d=functions.read_dicom(path_6d)\n",
    "array_6d= sitk.GetArrayFromImage(img_6d)\n",
    "print('6d total counts', np.sum(array_6d))\n"
   ]
  },
  {
   "cell_type": "code",
   "execution_count": 16,
   "id": "a5d9b47a",
   "metadata": {},
   "outputs": [
    {
     "name": "stdout",
     "output_type": "stream",
     "text": [
      "4h total activity 1469.5208089811033\n",
      "24h total activity 639.2735338217694\n",
      "6d total activity 290.95974315354437\n"
     ]
    }
   ],
   "source": [
    "calib_4h= array_4h * calib\n",
    "print('4h total activity', np.sum(calib_4h))\n",
    "calib_img_4h= sitk.GetImageFromArray(calib_4h)\n",
    "calib_img_4h.SetSpacing(img_4h.GetSpacing())\n",
    "calib_img_4h.SetDirection(img_4h.GetDirection())\n",
    "calib_img_4h.SetOrigin(img_4h.GetOrigin())\n",
    "sitk.WriteImage(calib_img_4h, \"E:\\\\tese_mestrado\\\\patients_study\\\\p8\\\\calibrated_volumes\\\\p8_4h.nrrd\")\n",
    "\n",
    "\n",
    "calib_24h= array_24h * calib\n",
    "print('24h total activity', np.sum(calib_24h))\n",
    "calib_img_24h= sitk.GetImageFromArray(calib_24h)\n",
    "calib_img_24h.SetSpacing(img_24h.GetSpacing())\n",
    "calib_img_24h.SetDirection(img_24h.GetDirection())\n",
    "calib_img_24h.SetOrigin(img_24h.GetOrigin())\n",
    "sitk.WriteImage(calib_img_24h, \"E:\\\\tese_mestrado\\\\patients_study\\\\p8\\\\calibrated_volumes\\\\p8_24h.nrrd\")\n",
    "\n",
    "calib_6d= array_6d * calib\n",
    "print('6d total activity', np.sum(calib_6d))\n",
    "calib_img_6d= sitk.GetImageFromArray(calib_6d)\n",
    "calib_img_6d.SetSpacing(img_6d.GetSpacing())\n",
    "calib_img_6d.SetDirection(img_6d.GetDirection())\n",
    "calib_img_6d.SetOrigin(img_6d.GetOrigin())\n",
    "sitk.WriteImage(calib_img_6d, \"E:\\\\tese_mestrado\\\\patients_study\\\\p8\\\\calibrated_volumes\\\\p8_6d.nrrd\")"
   ]
  },
  {
   "cell_type": "code",
   "execution_count": 6,
   "id": "7580c4ae",
   "metadata": {},
   "outputs": [
    {
     "name": "stdout",
     "output_type": "stream",
     "text": [
      "original source image size: (128, 128, 120)\n",
      "original source pixel spacing: (4.664, 4.664, 4.66400003433228)\n",
      "resampled source dimensions:\n",
      "resampled image size: (128, 128, 636)\n",
      "resampled image spacing: (4.664, 4.664, 0.8800000064777888)\n"
     ]
    }
   ],
   "source": [
    "#resampled_4h= source_imagem(path_4h)\n",
    "#resampled_24h= source_imagem(path_24h)\n",
    "resampled_6d= source_imagem(path_6d)"
   ]
  },
  {
   "cell_type": "code",
   "execution_count": 8,
   "id": "d108f75d",
   "metadata": {},
   "outputs": [],
   "source": [
    "source_path=\"E:\\\\tese_mestrado\\\\patients_study\\\\p8\\\\resampled_6d.nii\"\n",
    "source_img= functions.read_dicom(source_path)\n",
    "\n",
    "ct_path_density= \"E:\\\\tese_mestrado\\\\patients_study\\\\p8\\\\calibrated_volumes\\\\ct_density.nrrd\"\n",
    "ct_density_img= functions.read_dicom(ct_path_density)\n",
    "np_ct= sitk.GetArrayFromImage(ct_density_img)\n",
    "\n",
    "np_source= sitk.GetArrayFromImage(source_img)\n",
    "#np_source_flipped = np_source[:, ::-1, ::-1]\n",
    "\n",
    "source_img_1= sitk.GetImageFromArray(np_source)\n",
    "#source_img_1= sitk.GetImageFromArray(np_source_flipped)\n",
    "source_img_1.SetSpacing(source_img.GetSpacing())\n",
    "source_img_1.SetDirection(ct_density_img.GetDirection())\n",
    "source_img_1.SetOrigin(ct_density_img.GetOrigin())\n",
    "\n",
    "sitk.WriteImage(source_img_1, \"E:\\\\tese_mestrado\\\\patients_study\\\\p8\\\\resampled_6d-aligned.nii\")\n"
   ]
  },
  {
   "cell_type": "code",
   "execution_count": null,
   "id": "259c0311",
   "metadata": {},
   "outputs": [],
   "source": [
    "source_aligned= functions.read_dicom(\"E:\\\\tese_mestrado\\\\patients_study\\\\p8\\\\resampled_6d-aligned.nii\")\n",
    "\n",
    "img = source_aligned \n",
    "transform = sitk.AffineTransform(3)\n",
    "transform.SetMatrix([1, 0, 0,\n",
    "                     0, 1, 0,\n",
    "                     0, 0, 1])\n",
    "\n",
    "#transform.SetTranslation((15, 45, -31))  # em mm \n",
    "#transform.SetTranslation((10, 40, -35))  # em mm\n",
    "transform.SetTranslation((0, 40, -50))  # em mm\n",
    "\n",
    "resampled = sitk.Resample(img, img, transform,\n",
    "                          sitk.sitkLinear, 0.0, img.GetPixelID())\n",
    "\n",
    "np_transformed = sitk.GetArrayFromImage(resampled)\n",
    "\n",
    "source_img_alg= sitk.GetImageFromArray(np_transformed)\n",
    "source_img_alg.SetSpacing(source_aligned.GetSpacing())\n",
    "source_img_alg.SetDirection(ct_density_img.GetDirection())\n",
    "source_img_alg.SetOrigin(ct_density_img.GetOrigin())\n",
    "np_source_final= sitk.GetArrayFromImage(source_img_alg)\n",
    "\n",
    "sitk.WriteImage(source_img_alg, \"E:\\\\tese_mestrado\\\\patients_study\\\\p8\\\\resampled_6d-aligned-2.nii\")\n"
   ]
  },
  {
   "cell_type": "code",
   "execution_count": 10,
   "id": "f666ead1",
   "metadata": {},
   "outputs": [
    {
     "name": "stdout",
     "output_type": "stream",
     "text": [
      "phantom saved in: E:\\tese_mestrado\\patients_study\\p8\\p8_spect_ct_2.dmi\n",
      "source saved in: E:\\tese_mestrado\\patients_study\\p8\\p8_6d_2.smi\n"
     ]
    }
   ],
   "source": [
    "save_smi_dmi(np_ct, np_source_final)"
   ]
  },
  {
   "cell_type": "code",
   "execution_count": null,
   "id": "aaeb51b0",
   "metadata": {},
   "outputs": [],
   "source": [
    "source_aligned= functions.read_dicom(\"E:\\\\tese_mestrado\\\\patients_study\\\\p8\\\\volumes_alinhados\\\\recon_simind_24h.nii\")\n",
    "\n",
    "img = source_aligned \n",
    "transform = sitk.AffineTransform(3)\n",
    "transform.SetMatrix([1, 0, 0,\n",
    "                     0, 1, 0,\n",
    "                     0, 0, 1])\n",
    "\n",
    "#transform.SetTranslation((15, 45, -31))  # em mm \n",
    "#transform.SetTranslation((10, 40, -35))  # em mm\n",
    "transform.SetTranslation((20, -10, 50))  # em mm\n",
    "\n",
    "resampled = sitk.Resample(img, img, transform,\n",
    "                          sitk.sitkLinear, 0.0, img.GetPixelID())\n",
    "\n",
    "np_transformed = sitk.GetArrayFromImage(resampled)\n",
    "\n",
    "source_img_alg= sitk.GetImageFromArray(np_transformed)\n",
    "source_img_alg.SetSpacing(source_aligned.GetSpacing())\n",
    "source_img_alg.SetDirection(ct_density_img.GetDirection())\n",
    "source_img_alg.SetOrigin(ct_density_img.GetOrigin())\n",
    "np_source_final= sitk.GetArrayFromImage(source_img_alg)\n",
    "\n",
    "sitk.WriteImage(source_img_alg, \"E:\\\\tese_mestrado\\\\patients_study\\\\p8\\\\volumes_alinhados\\\\recon_simind_24h-2.nii\")"
   ]
  },
  {
   "cell_type": "code",
   "execution_count": 22,
   "id": "590378db",
   "metadata": {},
   "outputs": [],
   "source": [
    "source_aligned= functions.read_dicom(\"E:\\\\tese_mestrado\\\\patients_study\\\\p8\\\\volumes_alinhados\\\\recon_simind_24h.nii\")\n",
    "\n",
    "img = source_aligned \n",
    "transform = sitk.AffineTransform(3)\n",
    "transform.SetMatrix([1, 0, 0,\n",
    "                     0, 1, 0,\n",
    "                     0, 0, 1])\n",
    "\n",
    "#transform.SetTranslation((15, 45, -31))  # em mm \n",
    "#transform.SetTranslation((10, 40, -35))  # em mm\n",
    "transform.SetTranslation((0, 0, 7))  # em mm\n",
    "\n",
    "resampled = sitk.Resample(img, img, transform,\n",
    "                          sitk.sitkLinear, 0.0, img.GetPixelID())\n",
    "\n",
    "np_transformed = sitk.GetArrayFromImage(resampled)\n",
    "\n",
    "source_img_alg= sitk.GetImageFromArray(np_transformed)\n",
    "source_img_alg.SetSpacing(source_aligned.GetSpacing())\n",
    "source_img_alg.SetDirection(source_aligned.GetDirection())\n",
    "source_img_alg.SetOrigin(source_aligned.GetOrigin())\n",
    "np_source_final= sitk.GetArrayFromImage(source_img_alg)\n",
    "\n",
    "sitk.WriteImage(source_img_alg, \"E:\\\\tese_mestrado\\\\patients_study\\\\p8\\\\volumes_alinhados\\\\recon_simind_24h-2.nii\")"
   ]
  },
  {
   "cell_type": "code",
   "execution_count": null,
   "id": "c167fe5b",
   "metadata": {},
   "outputs": [],
   "source": []
  }
 ],
 "metadata": {
  "kernelspec": {
   "display_name": "Python (luisa_env)",
   "language": "python",
   "name": "luisa_env"
  },
  "language_info": {
   "codemirror_mode": {
    "name": "ipython",
    "version": 3
   },
   "file_extension": ".py",
   "mimetype": "text/x-python",
   "name": "python",
   "nbconvert_exporter": "python",
   "pygments_lexer": "ipython3",
   "version": "3.12.0"
  }
 },
 "nbformat": 4,
 "nbformat_minor": 5
}
