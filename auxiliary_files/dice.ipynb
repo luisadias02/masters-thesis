{
 "cells": [
  {
   "cell_type": "code",
   "execution_count": 1,
   "id": "bb025986",
   "metadata": {},
   "outputs": [],
   "source": [
    "import icc\n",
    "import numpy as np\n",
    "import SimpleITK as sitk\n",
    "%load_ext autoreload\n",
    "%autoreload 2"
   ]
  },
  {
   "cell_type": "code",
   "execution_count": 26,
   "id": "3117c73b",
   "metadata": {},
   "outputs": [],
   "source": [
    "original_path= \"E:\\\\tese_mestrado\\\\patients_study\\\\p8\\\\volumes_alinhados\\\\p8_24h cropped.nrrd\"\n",
    "simulated_path= \"E:\\\\tese_mestrado\\\\patients_study\\\\p8\\\\volumes_alinhados\\\\recon_simind_24h.nii\"\n",
    "original_seg= \"E:\\\\tese_mestrado\\\\patients_study\\\\p8\\\\volumes_alinhados\\\\seg_total.nrrd\""
   ]
  },
  {
   "cell_type": "code",
   "execution_count": 13,
   "id": "1545b925",
   "metadata": {},
   "outputs": [
    {
     "name": "stdout",
     "output_type": "stream",
     "text": [
      "image matrix: (128, 128, 128)\n",
      "initial segmentation matrix: (512, 512, 636)\n",
      "resampled segmentation:\n",
      "(128, 128, 128)\n",
      "(4.664, 4.664, 4.66400003433228)\n",
      "\n",
      "{1: 0.9495483403946858, 2: 0.9696023669539232, 3: 0.9865762919771298, 5: 0.9773289134752309, 21: 0.9827650356893394, 22: 0.8171605091427054, 23: 0.9868870728824204}\n"
     ]
    }
   ],
   "source": [
    "print(icc.calc(original_path, original_seg, simulated_path))"
   ]
  },
  {
   "cell_type": "code",
   "execution_count": 30,
   "id": "2af40793",
   "metadata": {},
   "outputs": [
    {
     "name": "stdout",
     "output_type": "stream",
     "text": [
      "0.9392597226018453\n"
     ]
    }
   ],
   "source": [
    "y_true= sitk.GetArrayFromImage(functions.read_dicom(original_path))\n",
    "y_pred= sitk.GetArrayFromImage(functions.read_dicom(simulated_path))\n",
    "\n",
    "y_true = (np.asarray(y_true).flatten())\n",
    "y_pred = (np.asarray(y_pred).flatten())\n",
    "\n",
    "mean_true = np.mean(y_true)\n",
    "mean_pred = np.mean(y_pred)\n",
    "var_true = np.var(y_true)\n",
    "var_pred = np.var(y_pred)\n",
    "\n",
    "rho, _ = pearsonr(y_true, y_pred)\n",
    "ccc = (2 * rho * np.sqrt(var_true * var_pred)) / (\n",
    "    var_true + var_pred + (mean_true - mean_pred) ** 2)\n",
    "\n",
    "print(ccc)"
   ]
  },
  {
   "cell_type": "code",
   "execution_count": 22,
   "id": "13b57282",
   "metadata": {},
   "outputs": [],
   "source": [
    "original_path= \"E:\\\\tese_mestrado\\\\patients_study\\\\p8\\\\volumes_alinhados\\\\p8_4h cropped.nrrd\"\n",
    "simulated_path= \"E:\\\\tese_mestrado\\\\patients_study\\\\p8\\\\volumes_alinhados\\\\recon_simind_4h.nii\"\n",
    "original_seg= \"E:\\\\tese_mestrado\\\\patients_study\\\\p8\\\\volumes_alinhados\\\\seg_total.nrrd\""
   ]
  },
  {
   "cell_type": "code",
   "execution_count": 26,
   "id": "cb46061d",
   "metadata": {},
   "outputs": [
    {
     "name": "stdout",
     "output_type": "stream",
     "text": [
      "image matrix: (128, 128, 128)\n",
      "initial segmentation matrix: (512, 512, 636)\n",
      "resampled segmentation:\n",
      "(128, 128, 128)\n",
      "(4.664, 4.664, 4.66400003433228)\n",
      "\n",
      "{1: 0.9807279934313761, 2: 0.978197356369078, 3: 0.988543986828458, 5: 0.973850515039784, 21: 0.9859139213310791, 22: 0.8242508043276956, 23: 0.9968895962388898}\n"
     ]
    }
   ],
   "source": [
    "print(icc.calc(original_path, original_seg, simulated_path))"
   ]
  },
  {
   "cell_type": "code",
   "execution_count": 23,
   "id": "380e63ad",
   "metadata": {},
   "outputs": [
    {
     "name": "stdout",
     "output_type": "stream",
     "text": [
      "0.9669401738209225\n"
     ]
    }
   ],
   "source": [
    "y_true= sitk.GetArrayFromImage(functions.read_dicom(original_path))\n",
    "y_pred= sitk.GetArrayFromImage(functions.read_dicom(simulated_path))\n",
    "\n",
    "y_true = np.asarray(y_true).flatten()\n",
    "y_pred = np.asarray(y_pred).flatten()\n",
    "\n",
    "mean_true = np.mean(y_true)\n",
    "mean_pred = np.mean(y_pred)\n",
    "var_true = np.var(y_true)\n",
    "var_pred = np.var(y_pred)\n",
    "\n",
    "rho, _ = pearsonr(y_true, y_pred)\n",
    "ccc = (2 * rho * np.sqrt(var_true * var_pred)) / (\n",
    "    var_true + var_pred + (mean_true - mean_pred) ** 2)\n",
    "\n",
    "print(ccc)"
   ]
  },
  {
   "cell_type": "code",
   "execution_count": 16,
   "id": "4f6880dd",
   "metadata": {},
   "outputs": [],
   "source": [
    "original_path= \"E:\\\\tese_mestrado\\\\patients_study\\\\p8\\\\volumes_alinhados\\\\p8_6d cropped_1.nrrd\"\n",
    "simulated_path= \"E:\\\\tese_mestrado\\\\patients_study\\\\p8\\\\volumes_alinhados\\\\recon_simind_6d.nii\"\n",
    "original_seg= \"E:\\\\tese_mestrado\\\\patients_study\\\\p8\\\\volumes_alinhados\\\\seg_total.nrrd\""
   ]
  },
  {
   "cell_type": "code",
   "execution_count": 17,
   "id": "11a8f049",
   "metadata": {},
   "outputs": [
    {
     "name": "stdout",
     "output_type": "stream",
     "text": [
      "image matrix: (128, 128, 128)\n",
      "initial segmentation matrix: (512, 512, 636)\n",
      "resampled segmentation:\n",
      "(128, 128, 128)\n",
      "(4.664, 4.664, 4.66400003433228)\n",
      "\n",
      "{1: 0.9487411363790469, 2: 0.9629061075074933, 3: 0.9856538520119469, 5: 0.9418327468168952, 21: 0.737807916568977, 22: 0.947547417328913, 23: 0.991860885499251}\n"
     ]
    }
   ],
   "source": [
    "print(icc.calc(original_path, original_seg, simulated_path))"
   ]
  },
  {
   "cell_type": "code",
   "execution_count": 5,
   "id": "656df99d",
   "metadata": {},
   "outputs": [],
   "source": [
    "import functions\n",
    "import SimpleITK as sitk"
   ]
  },
  {
   "cell_type": "code",
   "execution_count": 15,
   "id": "96c6a920",
   "metadata": {},
   "outputs": [],
   "source": [
    "source_aligned= functions.read_dicom(\"E:\\\\tese_mestrado\\\\patients_study\\\\p8\\\\volumes_alinhados\\\\p8_6d cropped.nrrd\")\n",
    "\n",
    "img = source_aligned \n",
    "transform = sitk.AffineTransform(3)\n",
    "transform.SetMatrix([1, 0, 0,\n",
    "                     0, 1, 0,\n",
    "                     0, 0, 1])\n",
    "\n",
    "#transform.SetTranslation((15, 45, -31))  # em mm \n",
    "#transform.SetTranslation((10, 40, -35))  # em mm\n",
    "transform.SetTranslation((-3, -12, 12))  # em mm\n",
    "\n",
    "resampled = sitk.Resample(img, img, transform,\n",
    "                          sitk.sitkLinear, 0.0, img.GetPixelID())\n",
    "\n",
    "np_transformed = sitk.GetArrayFromImage(resampled)\n",
    "\n",
    "source_img_alg= sitk.GetImageFromArray(np_transformed)\n",
    "source_img_alg.SetSpacing(source_aligned.GetSpacing())\n",
    "source_img_alg.SetDirection(source_aligned.GetDirection())\n",
    "source_img_alg.SetOrigin(source_aligned.GetOrigin())\n",
    "np_source_final= sitk.GetArrayFromImage(source_img_alg)\n",
    "\n",
    "sitk.WriteImage(source_img_alg, \"E:\\\\tese_mestrado\\\\patients_study\\\\p8\\\\volumes_alinhados\\\\p8_6d cropped_1.nrrd\")"
   ]
  },
  {
   "cell_type": "code",
   "execution_count": 19,
   "id": "c1267779",
   "metadata": {},
   "outputs": [],
   "source": [
    "import numpy as np\n",
    "from scipy.stats import pearsonr\n",
    "import functions"
   ]
  },
  {
   "cell_type": "code",
   "execution_count": 21,
   "id": "785166c5",
   "metadata": {},
   "outputs": [
    {
     "name": "stdout",
     "output_type": "stream",
     "text": [
      "0.8978464385595616\n"
     ]
    }
   ],
   "source": [
    "y_true= sitk.GetArrayFromImage(functions.read_dicom(original_path))\n",
    "y_pred= sitk.GetArrayFromImage(functions.read_dicom(simulated_path))\n",
    "\n",
    "y_true = np.asarray(y_true).flatten()\n",
    "y_pred = np.asarray(y_pred).flatten()\n",
    "\n",
    "mean_true = np.mean(y_true)\n",
    "mean_pred = np.mean(y_pred)\n",
    "var_true = np.var(y_true)\n",
    "var_pred = np.var(y_pred)\n",
    "\n",
    "rho, _ = pearsonr(y_true, y_pred)\n",
    "ccc = (2 * rho * np.sqrt(var_true * var_pred)) / (\n",
    "    var_true + var_pred + (mean_true - mean_pred) ** 2)\n",
    "\n",
    "print(ccc)"
   ]
  },
  {
   "cell_type": "code",
   "execution_count": null,
   "id": "a3767b89",
   "metadata": {},
   "outputs": [],
   "source": []
  }
 ],
 "metadata": {
  "kernelspec": {
   "display_name": "Python (luisa_env)",
   "language": "python",
   "name": "luisa_env"
  },
  "language_info": {
   "codemirror_mode": {
    "name": "ipython",
    "version": 3
   },
   "file_extension": ".py",
   "mimetype": "text/x-python",
   "name": "python",
   "nbconvert_exporter": "python",
   "pygments_lexer": "ipython3",
   "version": "3.12.0"
  }
 },
 "nbformat": 4,
 "nbformat_minor": 5
}
